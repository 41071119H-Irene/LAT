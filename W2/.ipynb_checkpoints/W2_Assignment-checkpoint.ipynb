{
 "cells": [
  {
   "cell_type": "markdown",
   "id": "ec158840",
   "metadata": {},
   "source": [
    "# 比較各縣市補習班與區域數量比率是否存在城鄉差距"
   ]
  },
  {
   "cell_type": "markdown",
   "id": "5d606f84",
   "metadata": {},
   "source": [
    "### 先讀入相關資料，擷取需要的部分"
   ]
  },
  {
   "cell_type": "code",
   "execution_count": null,
   "id": "823929c5",
   "metadata": {
    "scrolled": true
   },
   "outputs": [],
   "source": [
    "import pandas as pd\n",
    "\n",
    "df = pd.read_csv('Tainan.csv')\n",
    "\n",
    "df.head()"
   ]
  },
  {
   "cell_type": "code",
   "execution_count": null,
   "id": "3f8956f7",
   "metadata": {},
   "outputs": [],
   "source": [
    "temp = df[['行政區別', '文理類合計']]\n",
    "temp"
   ]
  },
  {
   "cell_type": "code",
   "execution_count": 6,
   "id": "cb189506",
   "metadata": {},
   "outputs": [
    {
     "data": {
      "text/html": [
       "<div>\n",
       "<style scoped>\n",
       "    .dataframe tbody tr th:only-of-type {\n",
       "        vertical-align: middle;\n",
       "    }\n",
       "\n",
       "    .dataframe tbody tr th {\n",
       "        vertical-align: top;\n",
       "    }\n",
       "\n",
       "    .dataframe thead th {\n",
       "        text-align: right;\n",
       "    }\n",
       "</style>\n",
       "<table border=\"1\" class=\"dataframe\">\n",
       "  <thead>\n",
       "    <tr style=\"text-align: right;\">\n",
       "      <th></th>\n",
       "      <th>c_schoolname</th>\n",
       "      <th>c_sn</th>\n",
       "      <th>c_settime</th>\n",
       "    </tr>\n",
       "  </thead>\n",
       "  <tbody>\n",
       "    <tr>\n",
       "      <th>0</th>\n",
       "      <td>私立名翰文理短期補習班</td>\n",
       "      <td>三峽區民生街83號3樓</td>\n",
       "      <td>1019059200000</td>\n",
       "    </tr>\n",
       "    <tr>\n",
       "      <th>1</th>\n",
       "      <td>私立快樂機器人有限公司附設快樂機器人技藝短期補習班</td>\n",
       "      <td>蘆洲區三民路185號2樓</td>\n",
       "      <td>1659628800000</td>\n",
       "    </tr>\n",
       "    <tr>\n",
       "      <th>2</th>\n",
       "      <td>私立學丞文理短期補習班</td>\n",
       "      <td>蘆洲區光榮路97巷33號1樓</td>\n",
       "      <td>1659024000000</td>\n",
       "    </tr>\n",
       "    <tr>\n",
       "      <th>3</th>\n",
       "      <td>私立未來領袖教育股份有限公司附設允騰文理短期補習班</td>\n",
       "      <td>林口區文化二路1段571之2號(1樓及2樓)、四維路62號(1樓及2樓)</td>\n",
       "      <td>1375372800000</td>\n",
       "    </tr>\n",
       "    <tr>\n",
       "      <th>4</th>\n",
       "      <td>私立陳老師文理技藝短期補習班</td>\n",
       "      <td>蘆洲區民族路145號2樓之1、2樓之2、129號2樓、131號1、2樓、145之1號1樓、1...</td>\n",
       "      <td>924710400000</td>\n",
       "    </tr>\n",
       "  </tbody>\n",
       "</table>\n",
       "</div>"
      ],
      "text/plain": [
       "                c_schoolname  \\\n",
       "0                私立名翰文理短期補習班   \n",
       "1  私立快樂機器人有限公司附設快樂機器人技藝短期補習班   \n",
       "2                私立學丞文理短期補習班   \n",
       "3  私立未來領袖教育股份有限公司附設允騰文理短期補習班   \n",
       "4             私立陳老師文理技藝短期補習班   \n",
       "\n",
       "                                                c_sn      c_settime  \n",
       "0                                        三峽區民生街83號3樓  1019059200000  \n",
       "1                                       蘆洲區三民路185號2樓  1659628800000  \n",
       "2                                     蘆洲區光榮路97巷33號1樓  1659024000000  \n",
       "3               林口區文化二路1段571之2號(1樓及2樓)、四維路62號(1樓及2樓)  1375372800000  \n",
       "4  蘆洲區民族路145號2樓之1、2樓之2、129號2樓、131號1、2樓、145之1號1樓、1...   924710400000  "
      ]
     },
     "execution_count": 6,
     "metadata": {},
     "output_type": "execute_result"
    }
   ],
   "source": [
    "dft = pd.read_csv('new Taipei.csv')\n",
    "\n",
    "dft.head()"
   ]
  },
  {
   "cell_type": "code",
   "execution_count": 1,
   "id": "3c5a6333",
   "metadata": {},
   "outputs": [
    {
     "ename": "NameError",
     "evalue": "name 'pd' is not defined",
     "output_type": "error",
     "traceback": [
      "\u001b[1;31m---------------------------------------------------------------------------\u001b[0m",
      "\u001b[1;31mNameError\u001b[0m                                 Traceback (most recent call last)",
      "Input \u001b[1;32mIn [1]\u001b[0m, in \u001b[0;36m<cell line: 1>\u001b[1;34m()\u001b[0m\n\u001b[1;32m----> 1\u001b[0m dfm \u001b[38;5;241m=\u001b[39m \u001b[43mpd\u001b[49m\u001b[38;5;241m.\u001b[39mread_csv(\u001b[38;5;124m'\u001b[39m\u001b[38;5;124mmazhu.csv\u001b[39m\u001b[38;5;124m'\u001b[39m)\n\u001b[0;32m      3\u001b[0m dft\u001b[38;5;241m.\u001b[39mhead()\n",
      "\u001b[1;31mNameError\u001b[0m: name 'pd' is not defined"
     ]
    }
   ],
   "source": [
    "dfm = pd.read_csv('mazhu.csv')\n",
    "\n",
    "dft.head()"
   ]
  },
  {
   "cell_type": "code",
   "execution_count": null,
   "id": "4bd89efd",
   "metadata": {},
   "outputs": [],
   "source": []
  }
 ],
 "metadata": {
  "kernelspec": {
   "display_name": "Python 3 (ipykernel)",
   "language": "python",
   "name": "python3"
  },
  "language_info": {
   "codemirror_mode": {
    "name": "ipython",
    "version": 3
   },
   "file_extension": ".py",
   "mimetype": "text/x-python",
   "name": "python",
   "nbconvert_exporter": "python",
   "pygments_lexer": "ipython3",
   "version": "3.9.12"
  }
 },
 "nbformat": 4,
 "nbformat_minor": 5
}
